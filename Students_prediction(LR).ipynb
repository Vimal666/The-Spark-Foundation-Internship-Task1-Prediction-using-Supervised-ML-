{
 "cells": [
  {
   "cell_type": "markdown",
   "metadata": {
    "id": "aIdcWLRXHibw"
   },
   "source": [
    "## **By: Vimal PM**\n",
    "# **Company : The sparks Foundation**"
   ]
  },
  {
   "cell_type": "markdown",
   "metadata": {
    "id": "lnBKTLy4XkJk"
   },
   "source": [
    "Data Science & Business Analytics Tasks\n",
    "# ***Data Science & Business Analytics Tasks*** \n",
    " **Task1 : Prediction using Supervised ML**\n",
    "\n",
    "**Objective : Predict the percentage of an student based on the no. of study hours, And also have to predict the score if a student studies for 9.25 hrs/ day?.**\n",
    "\n",
    "**Dataset details: This is a simple linear regression task as it involves just 2 variables.**"
   ]
  },
  {
   "cell_type": "markdown",
   "metadata": {
    "id": "4vso1uB1_p0b"
   },
   "source": [
    "# Importing all the necessary libraries \n"
   ]
  },
  {
   "cell_type": "code",
   "execution_count": 3,
   "metadata": {
    "id": "V9QN2ZxC38pB"
   },
   "outputs": [],
   "source": [
    "import pandas as pd # for data manipulations.\n",
    "import numpy as np # to perform mathematical operations.\n",
    "from sklearn.linear_model import LinearRegression \n",
    "import matplotlib.pyplot as plt # for visualizations\n",
    "import seaborn as sns # for advanced visualizations\n",
    "from sklearn.metrics import mean_squared_error\n",
    "from sklearn import metrics\n"
   ]
  },
  {
   "cell_type": "markdown",
   "metadata": {
    "id": "8p9i-WT6ATdt"
   },
   "source": [
    "Loading the dataset"
   ]
  },
  {
   "cell_type": "code",
   "execution_count": 2,
   "metadata": {
    "id": "LtU4YMEhqm9m"
   },
   "outputs": [],
   "source": [
    "\n",
    "URL= \"http://bit.ly/w-data\"\n",
    "students = pd.read_csv(URL)\n"
   ]
  },
  {
   "cell_type": "code",
   "execution_count": 4,
   "metadata": {
    "colab": {
     "base_uri": "https://localhost:8080/"
    },
    "id": "SBLfiiIPAn7L",
    "outputId": "3520a548-50b3-408b-f2bc-82385f07857c"
   },
   "outputs": [
    {
     "data": {
      "text/plain": [
       "Index(['Hours', 'Scores'], dtype='object')"
      ]
     },
     "execution_count": 4,
     "metadata": {
      "tags": []
     },
     "output_type": "execute_result"
    }
   ],
   "source": [
    "#getting the column names\n",
    "students.columns"
   ]
  },
  {
   "cell_type": "code",
   "execution_count": 5,
   "metadata": {
    "colab": {
     "base_uri": "https://localhost:8080/"
    },
    "id": "wm4gPzKpAwhF",
    "outputId": "a7a4a8ee-e9d0-4b2c-d7a8-b0af14622716"
   },
   "outputs": [
    {
     "data": {
      "text/plain": [
       "(25, 2)"
      ]
     },
     "execution_count": 5,
     "metadata": {
      "tags": []
     },
     "output_type": "execute_result"
    }
   ],
   "source": [
    "students.shape #shape of the dataset"
   ]
  },
  {
   "cell_type": "code",
   "execution_count": 6,
   "metadata": {
    "colab": {
     "base_uri": "https://localhost:8080/",
     "height": 347
    },
    "id": "d1meFeg8Ax2o",
    "outputId": "a9b0f75f-1f41-4f6f-81b4-9232be96e27f"
   },
   "outputs": [
    {
     "data": {
      "text/html": [
       "<div>\n",
       "<style scoped>\n",
       "    .dataframe tbody tr th:only-of-type {\n",
       "        vertical-align: middle;\n",
       "    }\n",
       "\n",
       "    .dataframe tbody tr th {\n",
       "        vertical-align: top;\n",
       "    }\n",
       "\n",
       "    .dataframe thead th {\n",
       "        text-align: right;\n",
       "    }\n",
       "</style>\n",
       "<table border=\"1\" class=\"dataframe\">\n",
       "  <thead>\n",
       "    <tr style=\"text-align: right;\">\n",
       "      <th></th>\n",
       "      <th>Hours</th>\n",
       "      <th>Scores</th>\n",
       "    </tr>\n",
       "  </thead>\n",
       "  <tbody>\n",
       "    <tr>\n",
       "      <th>0</th>\n",
       "      <td>2.5</td>\n",
       "      <td>21</td>\n",
       "    </tr>\n",
       "    <tr>\n",
       "      <th>1</th>\n",
       "      <td>5.1</td>\n",
       "      <td>47</td>\n",
       "    </tr>\n",
       "    <tr>\n",
       "      <th>2</th>\n",
       "      <td>3.2</td>\n",
       "      <td>27</td>\n",
       "    </tr>\n",
       "    <tr>\n",
       "      <th>3</th>\n",
       "      <td>8.5</td>\n",
       "      <td>75</td>\n",
       "    </tr>\n",
       "    <tr>\n",
       "      <th>4</th>\n",
       "      <td>3.5</td>\n",
       "      <td>30</td>\n",
       "    </tr>\n",
       "    <tr>\n",
       "      <th>5</th>\n",
       "      <td>1.5</td>\n",
       "      <td>20</td>\n",
       "    </tr>\n",
       "    <tr>\n",
       "      <th>6</th>\n",
       "      <td>9.2</td>\n",
       "      <td>88</td>\n",
       "    </tr>\n",
       "    <tr>\n",
       "      <th>7</th>\n",
       "      <td>5.5</td>\n",
       "      <td>60</td>\n",
       "    </tr>\n",
       "    <tr>\n",
       "      <th>8</th>\n",
       "      <td>8.3</td>\n",
       "      <td>81</td>\n",
       "    </tr>\n",
       "    <tr>\n",
       "      <th>9</th>\n",
       "      <td>2.7</td>\n",
       "      <td>25</td>\n",
       "    </tr>\n",
       "  </tbody>\n",
       "</table>\n",
       "</div>"
      ],
      "text/plain": [
       "   Hours  Scores\n",
       "0    2.5      21\n",
       "1    5.1      47\n",
       "2    3.2      27\n",
       "3    8.5      75\n",
       "4    3.5      30\n",
       "5    1.5      20\n",
       "6    9.2      88\n",
       "7    5.5      60\n",
       "8    8.3      81\n",
       "9    2.7      25"
      ]
     },
     "execution_count": 6,
     "metadata": {
      "tags": []
     },
     "output_type": "execute_result"
    }
   ],
   "source": [
    "#getting the first 10 observation of dataset\n",
    "students.head(10)"
   ]
  },
  {
   "cell_type": "code",
   "execution_count": 7,
   "metadata": {
    "colab": {
     "base_uri": "https://localhost:8080/",
     "height": 197
    },
    "id": "EuSir1gFA1Yn",
    "outputId": "d8aae50f-748d-4af4-91ec-4b3cd41641f9"
   },
   "outputs": [
    {
     "data": {
      "text/html": [
       "<div>\n",
       "<style scoped>\n",
       "    .dataframe tbody tr th:only-of-type {\n",
       "        vertical-align: middle;\n",
       "    }\n",
       "\n",
       "    .dataframe tbody tr th {\n",
       "        vertical-align: top;\n",
       "    }\n",
       "\n",
       "    .dataframe thead th {\n",
       "        text-align: right;\n",
       "    }\n",
       "</style>\n",
       "<table border=\"1\" class=\"dataframe\">\n",
       "  <thead>\n",
       "    <tr style=\"text-align: right;\">\n",
       "      <th></th>\n",
       "      <th>Hours</th>\n",
       "      <th>Scores</th>\n",
       "    </tr>\n",
       "  </thead>\n",
       "  <tbody>\n",
       "    <tr>\n",
       "      <th>20</th>\n",
       "      <td>2.7</td>\n",
       "      <td>30</td>\n",
       "    </tr>\n",
       "    <tr>\n",
       "      <th>21</th>\n",
       "      <td>4.8</td>\n",
       "      <td>54</td>\n",
       "    </tr>\n",
       "    <tr>\n",
       "      <th>22</th>\n",
       "      <td>3.8</td>\n",
       "      <td>35</td>\n",
       "    </tr>\n",
       "    <tr>\n",
       "      <th>23</th>\n",
       "      <td>6.9</td>\n",
       "      <td>76</td>\n",
       "    </tr>\n",
       "    <tr>\n",
       "      <th>24</th>\n",
       "      <td>7.8</td>\n",
       "      <td>86</td>\n",
       "    </tr>\n",
       "  </tbody>\n",
       "</table>\n",
       "</div>"
      ],
      "text/plain": [
       "    Hours  Scores\n",
       "20    2.7      30\n",
       "21    4.8      54\n",
       "22    3.8      35\n",
       "23    6.9      76\n",
       "24    7.8      86"
      ]
     },
     "execution_count": 7,
     "metadata": {
      "tags": []
     },
     "output_type": "execute_result"
    }
   ],
   "source": [
    "#last 5 observations \n",
    "students.tail(5)"
   ]
  },
  {
   "cell_type": "markdown",
   "metadata": {
    "id": "ksOhL8bZBACS"
   },
   "source": [
    "#checking for null values\n"
   ]
  },
  {
   "cell_type": "code",
   "execution_count": null,
   "metadata": {
    "id": "Pq7uqNZ5A5l3"
   },
   "outputs": [],
   "source": [
    "students.isnull().sum()"
   ]
  },
  {
   "cell_type": "markdown",
   "metadata": {
    "id": "OTekBCkXBJEJ"
   },
   "source": [
    "#getting the first bussiness moments values such as mode,mean,median,standard deviation, Minimum and maximum values,etc.. \n"
   ]
  },
  {
   "cell_type": "code",
   "execution_count": 8,
   "metadata": {
    "colab": {
     "base_uri": "https://localhost:8080/",
     "height": 287
    },
    "id": "p575QBv2BWWs",
    "outputId": "ac575bbd-b4f7-4963-8885-8adc70fd1217"
   },
   "outputs": [
    {
     "data": {
      "text/html": [
       "<div>\n",
       "<style scoped>\n",
       "    .dataframe tbody tr th:only-of-type {\n",
       "        vertical-align: middle;\n",
       "    }\n",
       "\n",
       "    .dataframe tbody tr th {\n",
       "        vertical-align: top;\n",
       "    }\n",
       "\n",
       "    .dataframe thead th {\n",
       "        text-align: right;\n",
       "    }\n",
       "</style>\n",
       "<table border=\"1\" class=\"dataframe\">\n",
       "  <thead>\n",
       "    <tr style=\"text-align: right;\">\n",
       "      <th></th>\n",
       "      <th>Hours</th>\n",
       "      <th>Scores</th>\n",
       "    </tr>\n",
       "  </thead>\n",
       "  <tbody>\n",
       "    <tr>\n",
       "      <th>count</th>\n",
       "      <td>25.000000</td>\n",
       "      <td>25.000000</td>\n",
       "    </tr>\n",
       "    <tr>\n",
       "      <th>mean</th>\n",
       "      <td>5.012000</td>\n",
       "      <td>51.480000</td>\n",
       "    </tr>\n",
       "    <tr>\n",
       "      <th>std</th>\n",
       "      <td>2.525094</td>\n",
       "      <td>25.286887</td>\n",
       "    </tr>\n",
       "    <tr>\n",
       "      <th>min</th>\n",
       "      <td>1.100000</td>\n",
       "      <td>17.000000</td>\n",
       "    </tr>\n",
       "    <tr>\n",
       "      <th>25%</th>\n",
       "      <td>2.700000</td>\n",
       "      <td>30.000000</td>\n",
       "    </tr>\n",
       "    <tr>\n",
       "      <th>50%</th>\n",
       "      <td>4.800000</td>\n",
       "      <td>47.000000</td>\n",
       "    </tr>\n",
       "    <tr>\n",
       "      <th>75%</th>\n",
       "      <td>7.400000</td>\n",
       "      <td>75.000000</td>\n",
       "    </tr>\n",
       "    <tr>\n",
       "      <th>max</th>\n",
       "      <td>9.200000</td>\n",
       "      <td>95.000000</td>\n",
       "    </tr>\n",
       "  </tbody>\n",
       "</table>\n",
       "</div>"
      ],
      "text/plain": [
       "           Hours     Scores\n",
       "count  25.000000  25.000000\n",
       "mean    5.012000  51.480000\n",
       "std     2.525094  25.286887\n",
       "min     1.100000  17.000000\n",
       "25%     2.700000  30.000000\n",
       "50%     4.800000  47.000000\n",
       "75%     7.400000  75.000000\n",
       "max     9.200000  95.000000"
      ]
     },
     "execution_count": 8,
     "metadata": {
      "tags": []
     },
     "output_type": "execute_result"
    }
   ],
   "source": [
    "students.describe()\n"
   ]
  },
  {
   "cell_type": "code",
   "execution_count": 9,
   "metadata": {
    "colab": {
     "base_uri": "https://localhost:8080/"
    },
    "id": "4fZGsrAVBhY4",
    "outputId": "12226861-3b8f-4e6a-b92e-edd41b8f2993"
   },
   "outputs": [
    {
     "data": {
      "text/plain": [
       "23"
      ]
     },
     "execution_count": 9,
     "metadata": {
      "tags": []
     },
     "output_type": "execute_result"
    }
   ],
   "source": [
    "students[\"Hours\"].value_counts().count() # counting the values inside Hours column."
   ]
  },
  {
   "cell_type": "code",
   "execution_count": 10,
   "metadata": {
    "colab": {
     "base_uri": "https://localhost:8080/"
    },
    "id": "b0Mapv5mBjkl",
    "outputId": "9ba6c425-c8de-4344-c9f7-a53ac760ce67"
   },
   "outputs": [
    {
     "data": {
      "text/plain": [
       "23"
      ]
     },
     "execution_count": 10,
     "metadata": {
      "tags": []
     },
     "output_type": "execute_result"
    }
   ],
   "source": [
    "students[\"Scores\"].value_counts().count() # counting the values inside scores column.\n"
   ]
  },
  {
   "cell_type": "markdown",
   "metadata": {
    "id": "FkQ6UmvaBwfd"
   },
   "source": [
    "VISUALIZATIONS"
   ]
  },
  {
   "cell_type": "code",
   "execution_count": 11,
   "metadata": {
    "colab": {
     "base_uri": "https://localhost:8080/",
     "height": 296
    },
    "id": "42_uIFdIBnRA",
    "outputId": "d37c62eb-660e-41f0-f584-7b43842c6af9"
   },
   "outputs": [
    {
     "data": {
      "text/plain": [
       "Text(0, 0.5, 'Scores')"
      ]
     },
     "execution_count": 11,
     "metadata": {
      "tags": []
     },
     "output_type": "execute_result"
    },
    {
     "data": {
      "image/png": "[encoded data removed]",
      "text/plain": [
       "<Figure size 432x288 with 1 Axes>"
      ]
     },
     "metadata": {
      "needs_background": "light",
      "tags": []
     },
     "output_type": "display_data"
    }
   ],
   "source": [
    "#Scatterplot\n",
    "plt.plot(students.Hours,students.Scores,\"ro\");plt.xlabel(\"Hours\");plt.ylabel(\"Scores\") "
   ]
  },
  {
   "cell_type": "markdown",
   "metadata": {
    "id": "DwwiVU4HCAJC"
   },
   "source": [
    "Above we can see the there is a strong positive correlation b/w two variables"
   ]
  },
  {
   "cell_type": "code",
   "execution_count": 12,
   "metadata": {
    "colab": {
     "base_uri": "https://localhost:8080/",
     "height": 296
    },
    "id": "47ElKplRB9LO",
    "outputId": "28411b49-5e03-428f-940a-fc2664762f31"
   },
   "outputs": [
    {
     "data": {
      "text/plain": [
       "<matplotlib.axes._subplots.AxesSubplot at 0x7efe8f01a0f0>"
      ]
     },
     "execution_count": 12,
     "metadata": {
      "tags": []
     },
     "output_type": "execute_result"
    },
    {
     "data": {
      "image/png": "[encoded data removed]",
      "text/plain": [
       "<Figure size 432x288 with 1 Axes>"
      ]
     },
     "metadata": {
      "needs_background": "light",
      "tags": []
     },
     "output_type": "display_data"
    }
   ],
   "source": [
    "#Barplot\n",
    "sns.barplot(x=\"Hours\",y=\"Scores\",data=students)"
   ]
  },
  {
   "cell_type": "code",
   "execution_count": 13,
   "metadata": {
    "colab": {
     "base_uri": "https://localhost:8080/",
     "height": 1000
    },
    "id": "uwkwz9TJDMv1",
    "outputId": "8ded5dd4-2383-4c35-d85d-155647bc8f78"
   },
   "outputs": [
    {
     "data": {
      "text/plain": [
       "{'boxes': [<matplotlib.lines.Line2D at 0x7efe8eb63320>,\n",
       "  <matplotlib.lines.Line2D at 0x7efe8eabe630>,\n",
       "  <matplotlib.lines.Line2D at 0x7efe8ea4f160>,\n",
       "  <matplotlib.lines.Line2D at 0x7efe8f044a58>,\n",
       "  <matplotlib.lines.Line2D at 0x7efe8f079ef0>,\n",
       "  <matplotlib.lines.Line2D at 0x7efe8e9a2048>,\n",
       "  <matplotlib.lines.Line2D at 0x7efe8e9ad908>,\n",
       "  <matplotlib.lines.Line2D at 0x7efe8e945208>,\n",
       "  <matplotlib.lines.Line2D at 0x7efe8e94fac8>,\n",
       "  <matplotlib.lines.Line2D at 0x7efe8e9653c8>,\n",
       "  <matplotlib.lines.Line2D at 0x7efe8e971c88>,\n",
       "  <matplotlib.lines.Line2D at 0x7efe8e909588>,\n",
       "  <matplotlib.lines.Line2D at 0x7efe8e915e48>,\n",
       "  <matplotlib.lines.Line2D at 0x7efe8e92b748>,\n",
       "  <matplotlib.lines.Line2D at 0x7efe8e943048>,\n",
       "  <matplotlib.lines.Line2D at 0x7efe8e8cf828>,\n",
       "  <matplotlib.lines.Line2D at 0x7efe8e8dbf60>,\n",
       "  <matplotlib.lines.Line2D at 0x7efe8e8f46d8>,\n",
       "  <matplotlib.lines.Line2D at 0x7efe8e901e10>,\n",
       "  <matplotlib.lines.Line2D at 0x7efe8e89a588>,\n",
       "  <matplotlib.lines.Line2D at 0x7efe8e8a7cc0>,\n",
       "  <matplotlib.lines.Line2D at 0x7efe8e8bd438>,\n",
       "  <matplotlib.lines.Line2D at 0x7efe8e84ab70>,\n",
       "  <matplotlib.lines.Line2D at 0x7efe8e8622e8>,\n",
       "  <matplotlib.lines.Line2D at 0x7efe8e870a20>],\n",
       " 'caps': [<matplotlib.lines.Line2D at 0x7efe8ea5b4a8>,\n",
       "  <matplotlib.lines.Line2D at 0x7efe8eab2da0>,\n",
       "  <matplotlib.lines.Line2D at 0x7efe8ea49a20>,\n",
       "  <matplotlib.lines.Line2D at 0x7efe8ea497b8>,\n",
       "  <matplotlib.lines.Line2D at 0x7efe8f039940>,\n",
       "  <matplotlib.lines.Line2D at 0x7efe8ea280f0>,\n",
       "  <matplotlib.lines.Line2D at 0x7efe8ea2a5c0>,\n",
       "  <matplotlib.lines.Line2D at 0x7efe8ea56128>,\n",
       "  <matplotlib.lines.Line2D at 0x7efe8f0302b0>,\n",
       "  <matplotlib.lines.Line2D at 0x7efe8f025860>,\n",
       "  <matplotlib.lines.Line2D at 0x7efe8e9a2b00>,\n",
       "  <matplotlib.lines.Line2D at 0x7efe8e9a2e80>,\n",
       "  <matplotlib.lines.Line2D at 0x7efe8e9b8400>,\n",
       "  <matplotlib.lines.Line2D at 0x7efe8e9b8780>,\n",
       "  <matplotlib.lines.Line2D at 0x7efe8e945cc0>,\n",
       "  <matplotlib.lines.Line2D at 0x7efe8e94f080>,\n",
       "  <matplotlib.lines.Line2D at 0x7efe8e95b5c0>,\n",
       "  <matplotlib.lines.Line2D at 0x7efe8e95b940>,\n",
       "  <matplotlib.lines.Line2D at 0x7efe8e965e80>,\n",
       "  <matplotlib.lines.Line2D at 0x7efe8e971240>,\n",
       "  <matplotlib.lines.Line2D at 0x7efe8e97d780>,\n",
       "  <matplotlib.lines.Line2D at 0x7efe8e97db00>,\n",
       "  <matplotlib.lines.Line2D at 0x7efe8e915080>,\n",
       "  <matplotlib.lines.Line2D at 0x7efe8e915400>,\n",
       "  <matplotlib.lines.Line2D at 0x7efe8e921940>,\n",
       "  <matplotlib.lines.Line2D at 0x7efe8e921cc0>,\n",
       "  <matplotlib.lines.Line2D at 0x7efe8e938240>,\n",
       "  <matplotlib.lines.Line2D at 0x7efe8e9385c0>,\n",
       "  <matplotlib.lines.Line2D at 0x7efe8e943b00>,\n",
       "  <matplotlib.lines.Line2D at 0x7efe8e943e48>,\n",
       "  <matplotlib.lines.Line2D at 0x7efe8e8db278>,\n",
       "  <matplotlib.lines.Line2D at 0x7efe8e8db5c0>,\n",
       "  <matplotlib.lines.Line2D at 0x7efe8e8e79b0>,\n",
       "  <matplotlib.lines.Line2D at 0x7efe8e8e7cf8>,\n",
       "  <matplotlib.lines.Line2D at 0x7efe8e901128>,\n",
       "  <matplotlib.lines.Line2D at 0x7efe8e901470>,\n",
       "  <matplotlib.lines.Line2D at 0x7efe8e88e860>,\n",
       "  <matplotlib.lines.Line2D at 0x7efe8e88eba8>,\n",
       "  <matplotlib.lines.Line2D at 0x7efe8e89af98>,\n",
       "  <matplotlib.lines.Line2D at 0x7efe8e8a7320>,\n",
       "  <matplotlib.lines.Line2D at 0x7efe8e8b4710>,\n",
       "  <matplotlib.lines.Line2D at 0x7efe8e8b4a58>,\n",
       "  <matplotlib.lines.Line2D at 0x7efe8e8bde48>,\n",
       "  <matplotlib.lines.Line2D at 0x7efe8e84a1d0>,\n",
       "  <matplotlib.lines.Line2D at 0x7efe8e8575c0>,\n",
       "  <matplotlib.lines.Line2D at 0x7efe8e857908>,\n",
       "  <matplotlib.lines.Line2D at 0x7efe8e862cf8>,\n",
       "  <matplotlib.lines.Line2D at 0x7efe8e870080>,\n",
       "  <matplotlib.lines.Line2D at 0x7efe8e87a470>,\n",
       "  <matplotlib.lines.Line2D at 0x7efe8e87a7b8>],\n",
       " 'fliers': [<matplotlib.lines.Line2D at 0x7efe8ea45cf8>,\n",
       "  <matplotlib.lines.Line2D at 0x7efe8ea66a20>,\n",
       "  <matplotlib.lines.Line2D at 0x7efe8ea28d68>,\n",
       "  <matplotlib.lines.Line2D at 0x7efe8ea56c50>,\n",
       "  <matplotlib.lines.Line2D at 0x7efe8f0bf320>,\n",
       "  <matplotlib.lines.Line2D at 0x7efe8e9ad5c0>,\n",
       "  <matplotlib.lines.Line2D at 0x7efe8e9b8e80>,\n",
       "  <matplotlib.lines.Line2D at 0x7efe8e94f780>,\n",
       "  <matplotlib.lines.Line2D at 0x7efe8e965080>,\n",
       "  <matplotlib.lines.Line2D at 0x7efe8e971940>,\n",
       "  <matplotlib.lines.Line2D at 0x7efe8e909240>,\n",
       "  <matplotlib.lines.Line2D at 0x7efe8e915b00>,\n",
       "  <matplotlib.lines.Line2D at 0x7efe8e92b400>,\n",
       "  <matplotlib.lines.Line2D at 0x7efe8e938cc0>,\n",
       "  <matplotlib.lines.Line2D at 0x7efe8e8cf518>,\n",
       "  <matplotlib.lines.Line2D at 0x7efe8e8dbc50>,\n",
       "  <matplotlib.lines.Line2D at 0x7efe8e8f43c8>,\n",
       "  <matplotlib.lines.Line2D at 0x7efe8e901b00>,\n",
       "  <matplotlib.lines.Line2D at 0x7efe8e89a278>,\n",
       "  <matplotlib.lines.Line2D at 0x7efe8e8a79b0>,\n",
       "  <matplotlib.lines.Line2D at 0x7efe8e8bd128>,\n",
       "  <matplotlib.lines.Line2D at 0x7efe8e84a860>,\n",
       "  <matplotlib.lines.Line2D at 0x7efe8e857f98>,\n",
       "  <matplotlib.lines.Line2D at 0x7efe8e870710>,\n",
       "  <matplotlib.lines.Line2D at 0x7efe8e87ae48>],\n",
       " 'means': [],\n",
       " 'medians': [<matplotlib.lines.Line2D at 0x7efe8eaa82b0>,\n",
       "  <matplotlib.lines.Line2D at 0x7efe8ea66358>,\n",
       "  <matplotlib.lines.Line2D at 0x7efe8ea289b0>,\n",
       "  <matplotlib.lines.Line2D at 0x7efe8ea56518>,\n",
       "  <matplotlib.lines.Line2D at 0x7efe8f0255c0>,\n",
       "  <matplotlib.lines.Line2D at 0x7efe8e9ad240>,\n",
       "  <matplotlib.lines.Line2D at 0x7efe8e9b8b00>,\n",
       "  <matplotlib.lines.Line2D at 0x7efe8e94f400>,\n",
       "  <matplotlib.lines.Line2D at 0x7efe8e95bcc0>,\n",
       "  <matplotlib.lines.Line2D at 0x7efe8e9715c0>,\n",
       "  <matplotlib.lines.Line2D at 0x7efe8e97de80>,\n",
       "  <matplotlib.lines.Line2D at 0x7efe8e915780>,\n",
       "  <matplotlib.lines.Line2D at 0x7efe8e92b080>,\n",
       "  <matplotlib.lines.Line2D at 0x7efe8e938940>,\n",
       "  <matplotlib.lines.Line2D at 0x7efe8e8cf1d0>,\n",
       "  <matplotlib.lines.Line2D at 0x7efe8e8db908>,\n",
       "  <matplotlib.lines.Line2D at 0x7efe8e8f4080>,\n",
       "  <matplotlib.lines.Line2D at 0x7efe8e9017b8>,\n",
       "  <matplotlib.lines.Line2D at 0x7efe8e88eef0>,\n",
       "  <matplotlib.lines.Line2D at 0x7efe8e8a7668>,\n",
       "  <matplotlib.lines.Line2D at 0x7efe8e8b4da0>,\n",
       "  <matplotlib.lines.Line2D at 0x7efe8e84a518>,\n",
       "  <matplotlib.lines.Line2D at 0x7efe8e857c50>,\n",
       "  <matplotlib.lines.Line2D at 0x7efe8e8703c8>,\n",
       "  <matplotlib.lines.Line2D at 0x7efe8e87ab00>],\n",
       " 'whiskers': [<matplotlib.lines.Line2D at 0x7efe8eb63630>,\n",
       "  <matplotlib.lines.Line2D at 0x7efe8ea5b9e8>,\n",
       "  <matplotlib.lines.Line2D at 0x7efe8eabeb70>,\n",
       "  <matplotlib.lines.Line2D at 0x7efe8f2b3470>,\n",
       "  <matplotlib.lines.Line2D at 0x7efe8ea4f710>,\n",
       "  <matplotlib.lines.Line2D at 0x7efe8ea4fd30>,\n",
       "  <matplotlib.lines.Line2D at 0x7efe8f044f28>,\n",
       "  <matplotlib.lines.Line2D at 0x7efe8ea2a1d0>,\n",
       "  <matplotlib.lines.Line2D at 0x7efe8f0795c0>,\n",
       "  <matplotlib.lines.Line2D at 0x7efe8f068240>,\n",
       "  <matplotlib.lines.Line2D at 0x7efe8e9a2400>,\n",
       "  <matplotlib.lines.Line2D at 0x7efe8e9a2780>,\n",
       "  <matplotlib.lines.Line2D at 0x7efe8e9adcc0>,\n",
       "  <matplotlib.lines.Line2D at 0x7efe8e9b8080>,\n",
       "  <matplotlib.lines.Line2D at 0x7efe8e9455c0>,\n",
       "  <matplotlib.lines.Line2D at 0x7efe8e945940>,\n",
       "  <matplotlib.lines.Line2D at 0x7efe8e94fe80>,\n",
       "  <matplotlib.lines.Line2D at 0x7efe8e95b240>,\n",
       "  <matplotlib.lines.Line2D at 0x7efe8e965780>,\n",
       "  <matplotlib.lines.Line2D at 0x7efe8e965b00>,\n",
       "  <matplotlib.lines.Line2D at 0x7efe8e97d080>,\n",
       "  <matplotlib.lines.Line2D at 0x7efe8e97d400>,\n",
       "  <matplotlib.lines.Line2D at 0x7efe8e909940>,\n",
       "  <matplotlib.lines.Line2D at 0x7efe8e909cc0>,\n",
       "  <matplotlib.lines.Line2D at 0x7efe8e921240>,\n",
       "  <matplotlib.lines.Line2D at 0x7efe8e9215c0>,\n",
       "  <matplotlib.lines.Line2D at 0x7efe8e92bb00>,\n",
       "  <matplotlib.lines.Line2D at 0x7efe8e92be80>,\n",
       "  <matplotlib.lines.Line2D at 0x7efe8e943400>,\n",
       "  <matplotlib.lines.Line2D at 0x7efe8e943780>,\n",
       "  <matplotlib.lines.Line2D at 0x7efe8e8cfba8>,\n",
       "  <matplotlib.lines.Line2D at 0x7efe8e8cfef0>,\n",
       "  <matplotlib.lines.Line2D at 0x7efe8e8e7320>,\n",
       "  <matplotlib.lines.Line2D at 0x7efe8e8e7668>,\n",
       "  <matplotlib.lines.Line2D at 0x7efe8e8f4a58>,\n",
       "  <matplotlib.lines.Line2D at 0x7efe8e8f4da0>,\n",
       "  <matplotlib.lines.Line2D at 0x7efe8e88e1d0>,\n",
       "  <matplotlib.lines.Line2D at 0x7efe8e88e518>,\n",
       "  <matplotlib.lines.Line2D at 0x7efe8e89a908>,\n",
       "  <matplotlib.lines.Line2D at 0x7efe8e89ac50>,\n",
       "  <matplotlib.lines.Line2D at 0x7efe8e8b4080>,\n",
       "  <matplotlib.lines.Line2D at 0x7efe8e8b43c8>,\n",
       "  <matplotlib.lines.Line2D at 0x7efe8e8bd7b8>,\n",
       "  <matplotlib.lines.Line2D at 0x7efe8e8bdb00>,\n",
       "  <matplotlib.lines.Line2D at 0x7efe8e84aef0>,\n",
       "  <matplotlib.lines.Line2D at 0x7efe8e857278>,\n",
       "  <matplotlib.lines.Line2D at 0x7efe8e862668>,\n",
       "  <matplotlib.lines.Line2D at 0x7efe8e8629b0>,\n",
       "  <matplotlib.lines.Line2D at 0x7efe8e870da0>,\n",
       "  <matplotlib.lines.Line2D at 0x7efe8e87a128>]}"
      ]
     },
     "execution_count": 13,
     "metadata": {
      "tags": []
     },
     "output_type": "execute_result"
    },
    {
     "data": {
      "image/png": "[encoded data removed]",
      "text/plain": [
       "<Figure size 432x288 with 1 Axes>"
      ]
     },
     "metadata": {
      "needs_background": "light",
      "tags": []
     },
     "output_type": "display_data"
    }
   ],
   "source": [
    "#Box plot\n",
    "plt.boxplot(students)"
   ]
  },
  {
   "cell_type": "code",
   "execution_count": 14,
   "metadata": {
    "colab": {
     "base_uri": "https://localhost:8080/",
     "height": 296
    },
    "id": "zuGPuToiDUbW",
    "outputId": "64e6f0e3-beb8-4e28-d2f6-4500d1721790"
   },
   "outputs": [
    {
     "data": {
      "text/plain": [
       "<matplotlib.axes._subplots.AxesSubplot at 0x7efe8e7b5860>"
      ]
     },
     "execution_count": 14,
     "metadata": {
      "tags": []
     },
     "output_type": "execute_result"
    },
    {
     "data": {
      "image/png": "[encoded data removed]",
      "text/plain": [
       "<Figure size 432x288 with 1 Axes>"
      ]
     },
     "metadata": {
      "needs_background": "light",
      "tags": []
     },
     "output_type": "display_data"
    }
   ],
   "source": [
    "sns.boxplot(x=students[\"Hours\"])#No outlayers\n"
   ]
  },
  {
   "cell_type": "code",
   "execution_count": 15,
   "metadata": {
    "colab": {
     "base_uri": "https://localhost:8080/",
     "height": 296
    },
    "id": "oH3LtSOgDgWI",
    "outputId": "ff1e2ea8-cf66-4240-f0b8-98da53b812a2"
   },
   "outputs": [
    {
     "data": {
      "text/plain": [
       "<matplotlib.axes._subplots.AxesSubplot at 0x7efe8e710ac8>"
      ]
     },
     "execution_count": 15,
     "metadata": {
      "tags": []
     },
     "output_type": "execute_result"
    },
    {
     "data": {
      "image/png": "[encoded data removed]",
      "text/plain": [
       "<Figure size 432x288 with 1 Axes>"
      ]
     },
     "metadata": {
      "needs_background": "light",
      "tags": []
     },
     "output_type": "display_data"
    }
   ],
   "source": [
    "sns.boxplot(x=students[\"Scores\"]) #No outlayers\n"
   ]
  },
  {
   "cell_type": "code",
   "execution_count": 16,
   "metadata": {
    "colab": {
     "base_uri": "https://localhost:8080/",
     "height": 392
    },
    "id": "bS3sbGIXDkJm",
    "outputId": "b1f356ff-480b-451b-80d2-e07e857bc3c7"
   },
   "outputs": [
    {
     "data": {
      "text/plain": [
       "<seaborn.axisgrid.PairGrid at 0x7efe8e73ba58>"
      ]
     },
     "execution_count": 16,
     "metadata": {
      "tags": []
     },
     "output_type": "execute_result"
    },
    {
     "data": {
      "image/png": "[encoded data removed]",
      "text/plain": [
       "<Figure size 360x360 with 6 Axes>"
      ]
     },
     "metadata": {
      "needs_background": "light",
      "tags": []
     },
     "output_type": "display_data"
    }
   ],
   "source": [
    "#pair plot. It's a combination of histogram and scatter plot.\n",
    "sns.pairplot(students)"
   ]
  },
  {
   "cell_type": "markdown",
   "metadata": {
    "id": "nrg-ke9ODyaV"
   },
   "source": [
    "Finding the correlation b/w the variables\n"
   ]
  },
  {
   "cell_type": "code",
   "execution_count": 17,
   "metadata": {
    "colab": {
     "base_uri": "https://localhost:8080/",
     "height": 107
    },
    "id": "65i-wqHZDtJ2",
    "outputId": "a05fcd94-812f-40ed-fda3-27be5dcb4ea2"
   },
   "outputs": [
    {
     "data": {
      "text/html": [
       "<div>\n",
       "<style scoped>\n",
       "    .dataframe tbody tr th:only-of-type {\n",
       "        vertical-align: middle;\n",
       "    }\n",
       "\n",
       "    .dataframe tbody tr th {\n",
       "        vertical-align: top;\n",
       "    }\n",
       "\n",
       "    .dataframe thead th {\n",
       "        text-align: right;\n",
       "    }\n",
       "</style>\n",
       "<table border=\"1\" class=\"dataframe\">\n",
       "  <thead>\n",
       "    <tr style=\"text-align: right;\">\n",
       "      <th></th>\n",
       "      <th>Hours</th>\n",
       "      <th>Scores</th>\n",
       "    </tr>\n",
       "  </thead>\n",
       "  <tbody>\n",
       "    <tr>\n",
       "      <th>Hours</th>\n",
       "      <td>1.000000</td>\n",
       "      <td>0.976191</td>\n",
       "    </tr>\n",
       "    <tr>\n",
       "      <th>Scores</th>\n",
       "      <td>0.976191</td>\n",
       "      <td>1.000000</td>\n",
       "    </tr>\n",
       "  </tbody>\n",
       "</table>\n",
       "</div>"
      ],
      "text/plain": [
       "           Hours    Scores\n",
       "Hours   1.000000  0.976191\n",
       "Scores  0.976191  1.000000"
      ]
     },
     "execution_count": 17,
     "metadata": {
      "tags": []
     },
     "output_type": "execute_result"
    }
   ],
   "source": [
    "students.corr() #High correlation found"
   ]
  },
  {
   "cell_type": "markdown",
   "metadata": {
    "id": "IqDxztadD4uo"
   },
   "source": [
    "Heat map to see the correlation through chart.\n"
   ]
  },
  {
   "cell_type": "code",
   "execution_count": 18,
   "metadata": {
    "colab": {
     "base_uri": "https://localhost:8080/",
     "height": 1000
    },
    "id": "bXdFSm1VD8Xr",
    "outputId": "170b63f0-dcfb-4646-a134-020f0395610c"
   },
   "outputs": [
    {
     "data": {
      "text/plain": [
       "<matplotlib.axes._subplots.AxesSubplot at 0x7efe85a13668>"
      ]
     },
     "execution_count": 18,
     "metadata": {
      "tags": []
     },
     "output_type": "execute_result"
    },
    {
     "data": {
      "image/png": "[encoded data removed]",
      "text/plain": [
       "<Figure size 1440x2880 with 2 Axes>"
      ]
     },
     "metadata": {
      "needs_background": "light",
      "tags": []
     },
     "output_type": "display_data"
    }
   ],
   "source": [
    "fig,ax = plt.subplots(figsize=(20,40))\n",
    "sns.heatmap(students.corr(),cmap='plasma', annot=True)"
   ]
  },
  {
   "cell_type": "markdown",
   "metadata": {
    "id": "xuvrY6X_EXFq"
   },
   "source": [
    "Data Partition"
   ]
  },
  {
   "cell_type": "markdown",
   "metadata": {
    "id": "HdyG36YtECdt"
   },
   "source": [
    "separating the variables into target(o/p) v/s predictor(i/p).\n"
   ]
  },
  {
   "cell_type": "code",
   "execution_count": 19,
   "metadata": {
    "id": "LiJ5210e4tNX"
   },
   "outputs": [],
   "source": [
    "predictor=students.iloc[:, :-1].values\n",
    "target=students.iloc[:,1].values"
   ]
  },
  {
   "cell_type": "markdown",
   "metadata": {
    "id": "crGbzXwcE4RE"
   },
   "source": [
    "spliting the varaibles into Xtrain,Ytrain,Xtest,Ytest, where train data is 80% and test data is 20%.\n"
   ]
  },
  {
   "cell_type": "code",
   "execution_count": 20,
   "metadata": {
    "id": "Prk7m2U5E2Ip"
   },
   "outputs": [],
   "source": [
    "#For that importing a module called train_test_split from sklearn.\n",
    "from sklearn.model_selection import train_test_split\n",
    "Xtrain,Xtest,Ytrain,Ytest=train_test_split(predictor,target,test_size=0.2,random_state=0)"
   ]
  },
  {
   "cell_type": "markdown",
   "metadata": {
    "id": "QyZXy6RLFBP8"
   },
   "source": [
    "Model Building"
   ]
  },
  {
   "cell_type": "code",
   "execution_count": 21,
   "metadata": {
    "id": "-uM61btcFD8E"
   },
   "outputs": [],
   "source": [
    "#Building the model using linear regression.\n",
    "Regressor = LinearRegression()"
   ]
  },
  {
   "cell_type": "markdown",
   "metadata": {
    "id": "AEH9kTgvFM3C"
   },
   "source": [
    "Training the model\n"
   ]
  },
  {
   "cell_type": "code",
   "execution_count": 22,
   "metadata": {
    "id": "aTLOrIjoFI8t"
   },
   "outputs": [],
   "source": [
    "Model=Regressor.fit(Xtrain,Ytrain)"
   ]
  },
  {
   "cell_type": "markdown",
   "metadata": {
    "id": "EPCSEavsFXWM"
   },
   "source": [
    "Checking the train score "
   ]
  },
  {
   "cell_type": "code",
   "execution_count": 23,
   "metadata": {
    "colab": {
     "base_uri": "https://localhost:8080/"
    },
    "id": "jEjGpMvQFV5m",
    "outputId": "2f97d316-d2d9-4910-8946-5f68bd084421"
   },
   "outputs": [
    {
     "data": {
      "text/plain": [
       "0.9515510725211553"
      ]
     },
     "execution_count": 23,
     "metadata": {
      "tags": []
     },
     "output_type": "execute_result"
    }
   ],
   "source": [
    "Model.score(Xtrain,Ytrain)\n"
   ]
  },
  {
   "cell_type": "markdown",
   "metadata": {
    "id": "pKGgvT3vFhB2"
   },
   "source": [
    "Checking the test score"
   ]
  },
  {
   "cell_type": "code",
   "execution_count": 24,
   "metadata": {
    "colab": {
     "base_uri": "https://localhost:8080/"
    },
    "id": "hIztsCpXFe1e",
    "outputId": "0a756960-db41-498b-a79f-4afb66f502bf"
   },
   "outputs": [
    {
     "data": {
      "text/plain": [
       "0.9454906892105354"
      ]
     },
     "execution_count": 24,
     "metadata": {
      "tags": []
     },
     "output_type": "execute_result"
    }
   ],
   "source": [
    "Model.score(Xtest,Ytest)\n"
   ]
  },
  {
   "cell_type": "markdown",
   "metadata": {
    "id": "EjAt_OIbFqO6"
   },
   "source": [
    "Predicting the values"
   ]
  },
  {
   "cell_type": "code",
   "execution_count": 25,
   "metadata": {
    "id": "es2Q6bioF9eL"
   },
   "outputs": [],
   "source": [
    "predicted = Model.predict(Xtest)"
   ]
  },
  {
   "cell_type": "code",
   "execution_count": 27,
   "metadata": {
    "colab": {
     "base_uri": "https://localhost:8080/",
     "height": 197
    },
    "id": "ZlAj0ZjcF_Ay",
    "outputId": "6c7b0d5e-46cf-497a-fdae-2aed404a4998"
   },
   "outputs": [
    {
     "data": {
      "text/html": [
       "<div>\n",
       "<style scoped>\n",
       "    .dataframe tbody tr th:only-of-type {\n",
       "        vertical-align: middle;\n",
       "    }\n",
       "\n",
       "    .dataframe tbody tr th {\n",
       "        vertical-align: top;\n",
       "    }\n",
       "\n",
       "    .dataframe thead th {\n",
       "        text-align: right;\n",
       "    }\n",
       "</style>\n",
       "<table border=\"1\" class=\"dataframe\">\n",
       "  <thead>\n",
       "    <tr style=\"text-align: right;\">\n",
       "      <th></th>\n",
       "      <th>Actual</th>\n",
       "      <th>Predicted</th>\n",
       "    </tr>\n",
       "  </thead>\n",
       "  <tbody>\n",
       "    <tr>\n",
       "      <th>0</th>\n",
       "      <td>20</td>\n",
       "      <td>16.884145</td>\n",
       "    </tr>\n",
       "    <tr>\n",
       "      <th>1</th>\n",
       "      <td>27</td>\n",
       "      <td>33.732261</td>\n",
       "    </tr>\n",
       "    <tr>\n",
       "      <th>2</th>\n",
       "      <td>69</td>\n",
       "      <td>75.357018</td>\n",
       "    </tr>\n",
       "    <tr>\n",
       "      <th>3</th>\n",
       "      <td>30</td>\n",
       "      <td>26.794801</td>\n",
       "    </tr>\n",
       "    <tr>\n",
       "      <th>4</th>\n",
       "      <td>62</td>\n",
       "      <td>60.491033</td>\n",
       "    </tr>\n",
       "  </tbody>\n",
       "</table>\n",
       "</div>"
      ],
      "text/plain": [
       "   Actual  Predicted\n",
       "0      20  16.884145\n",
       "1      27  33.732261\n",
       "2      69  75.357018\n",
       "3      30  26.794801\n",
       "4      62  60.491033"
      ]
     },
     "execution_count": 27,
     "metadata": {
      "tags": []
     },
     "output_type": "execute_result"
    }
   ],
   "source": [
    "# Comparing Actual vs Predicted\n",
    "Data = pd.DataFrame({'Actual': Ytest, 'Predicted': predicted})  \n",
    "Data "
   ]
  },
  {
   "cell_type": "markdown",
   "metadata": {
    "id": "zfplf0x0GQWu"
   },
   "source": [
    "Model Evaluation"
   ]
  },
  {
   "cell_type": "markdown",
   "metadata": {
    "id": "hD4ptAblGW_t"
   },
   "source": [
    "RMSE\n"
   ]
  },
  {
   "cell_type": "code",
   "execution_count": 28,
   "metadata": {
    "colab": {
     "base_uri": "https://localhost:8080/"
    },
    "id": "BsN7Ulp-GTLY",
    "outputId": "1fb01a75-592d-4b00-8932-5f6f9539b868"
   },
   "outputs": [
    {
     "name": "stdout",
     "output_type": "stream",
     "text": [
      "4.647447612100373\n"
     ]
    }
   ],
   "source": [
    "Rmse = (np.sqrt(mean_squared_error(Ytest, predicted)))\n",
    "print(Rmse)"
   ]
  },
  {
   "cell_type": "markdown",
   "metadata": {
    "id": "N4HwudAqGdBq"
   },
   "source": [
    "MSE"
   ]
  },
  {
   "cell_type": "code",
   "execution_count": 29,
   "metadata": {
    "colab": {
     "base_uri": "https://localhost:8080/"
    },
    "id": "4066_a9XGfBV",
    "outputId": "b7eb3565-825a-4bd7-a81b-23e15d591ece"
   },
   "outputs": [
    {
     "data": {
      "text/plain": [
       "21.598769307217456"
      ]
     },
     "execution_count": 29,
     "metadata": {
      "tags": []
     },
     "output_type": "execute_result"
    }
   ],
   "source": [
    "metrics.mean_squared_error(Ytest,predicted)\n"
   ]
  },
  {
   "cell_type": "markdown",
   "metadata": {
    "id": "FXroKpOrGgkF"
   },
   "source": [
    "Mean Absolute error(MAE)"
   ]
  },
  {
   "cell_type": "code",
   "execution_count": 30,
   "metadata": {
    "colab": {
     "base_uri": "https://localhost:8080/"
    },
    "id": "7_7BhR5rGqM9",
    "outputId": "24307403-0436-415a-9ef9-0f855238ec06"
   },
   "outputs": [
    {
     "data": {
      "text/plain": [
       "4.183859899002982"
      ]
     },
     "execution_count": 30,
     "metadata": {
      "tags": []
     },
     "output_type": "execute_result"
    }
   ],
   "source": [
    "metrics.mean_absolute_error(Ytest,predicted)\n"
   ]
  },
  {
   "cell_type": "markdown",
   "metadata": {
    "id": "wZGdyyUBGyo4"
   },
   "source": [
    "SCATTER PLOT FOR PEDICTED VALUE V/S ACTUAL"
   ]
  },
  {
   "cell_type": "code",
   "execution_count": 31,
   "metadata": {
    "colab": {
     "base_uri": "https://localhost:8080/",
     "height": 282
    },
    "id": "OUn7pUD4G0pA",
    "outputId": "8f27c22d-03c1-4473-db38-7656d931c22a"
   },
   "outputs": [
    {
     "data": {
      "text/plain": [
       "<matplotlib.collections.PathCollection at 0x7efe850898d0>"
      ]
     },
     "execution_count": 31,
     "metadata": {
      "tags": []
     },
     "output_type": "execute_result"
    },
    {
     "data": {
      "image/png": "[encoded data removed]",
      "text/plain": [
       "<Figure size 432x288 with 1 Axes>"
      ]
     },
     "metadata": {
      "needs_background": "light",
      "tags": []
     },
     "output_type": "display_data"
    }
   ],
   "source": [
    "import matplotlib.pyplot as plt \n",
    "plt.scatter(Ytest,predicted)"
   ]
  },
  {
   "cell_type": "markdown",
   "metadata": {
    "id": "_3UJx1H8G9dr"
   },
   "source": [
    "predicting the score if a student studies for 9.25 hrs/ day?.\n"
   ]
  },
  {
   "cell_type": "code",
   "execution_count": 32,
   "metadata": {
    "colab": {
     "base_uri": "https://localhost:8080/"
    },
    "id": "leMZJyOnG_EN",
    "outputId": "2ea686f1-7b44-47e6-dc5f-435f3d799c1c"
   },
   "outputs": [
    {
     "data": {
      "text/plain": [
       "array([93.69173249])"
      ]
     },
     "execution_count": 32,
     "metadata": {
      "tags": []
     },
     "output_type": "execute_result"
    }
   ],
   "source": [
    "Hours=np.array(9.25).reshape(-1, 1)\n",
    "Model.predict(Hours)"
   ]
  }
 ],
 "metadata": {
  "colab": {
   "collapsed_sections": [],
   "name": "Students prediction(LR).ipynb",
   "provenance": []
  },
  "kernelspec": {
   "display_name": "Python 3",
   "language": "python",
   "name": "python3"
  },
  "language_info": {
   "codemirror_mode": {
    "name": "ipython",
    "version": 3
   },
   "file_extension": ".py",
   "mimetype": "text/x-python",
   "name": "python",
   "nbconvert_exporter": "python",
   "pygments_lexer": "ipython3",
   "version": "3.7.4"
  }
 },
 "nbformat": 4,
 "nbformat_minor": 1
}
